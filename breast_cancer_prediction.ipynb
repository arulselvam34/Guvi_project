{
  "metadata": {
    "kernelspec": {
      "language": "python",
      "display_name": "Python 3",
      "name": "python3"
    },
    "language_info": {
      "pygments_lexer": "ipython3",
      "nbconvert_exporter": "python",
      "version": "3.6.4",
      "file_extension": ".py",
      "codemirror_mode": {
        "name": "ipython",
        "version": 3
      },
      "name": "python",
      "mimetype": "text/x-python"
    },
    "kaggle": {
      "accelerator": "none",
      "dataSources": [
        {
          "sourceId": 408,
          "sourceType": "datasetVersion",
          "datasetId": 180
        }
      ],
      "dockerImageVersionId": 30096,
      "isInternetEnabled": false,
      "language": "python",
      "sourceType": "notebook",
      "isGpuEnabled": false
    },
    "colab": {
      "provenance": []
    }
  },
  "nbformat_minor": 0,
  "nbformat": 4,
  "cells": [
    {
      "cell_type": "markdown",
      "source": [
        "# Breast Cancer Prediction\n",
        "\n",
        "\n",
        "\n"
      ],
      "metadata": {
        "id": "PexNA0i629A6"
      }
    },
    {
      "cell_type": "code",
      "source": [
        "import pandas as pd\n",
        "import numpy as np\n",
        "import matplotlib.pyplot as plt\n",
        "import seaborn as sns\n",
        "import scipy as sp\n",
        "import warnings\n",
        "import os\n",
        "warnings.filterwarnings(\"ignore\")\n",
        "import datetime\n"
      ],
      "metadata": {
        "execution": {
          "iopub.status.busy": "2021-06-12T15:40:28.549351Z",
          "iopub.execute_input": "2021-06-12T15:40:28.549837Z",
          "iopub.status.idle": "2021-06-12T15:40:29.603569Z",
          "shell.execute_reply.started": "2021-06-12T15:40:28.54973Z",
          "shell.execute_reply": "2021-06-12T15:40:29.602768Z"
        },
        "trusted": true,
        "id": "XjFeFI2z29A-"
      },
      "outputs": [],
      "execution_count": null
    },
    {
      "cell_type": "markdown",
      "source": [
        "# LOADING THE DATASET"
      ],
      "metadata": {
        "id": "NIXn6Yk-29A_"
      }
    },
    {
      "cell_type": "code",
      "source": [
        "data=pd.read_csv('/content/data.csv')\n"
      ],
      "metadata": {
        "execution": {
          "iopub.status.busy": "2021-06-12T15:40:29.604838Z",
          "iopub.execute_input": "2021-06-12T15:40:29.605087Z",
          "iopub.status.idle": "2021-06-12T15:40:29.638156Z",
          "shell.execute_reply.started": "2021-06-12T15:40:29.605057Z",
          "shell.execute_reply": "2021-06-12T15:40:29.636902Z"
        },
        "trusted": true,
        "id": "9QmMYFLt29A_"
      },
      "outputs": [],
      "execution_count": null
    },
    {
      "cell_type": "code",
      "source": [
        "data.head()      #displaying the head of dataset"
      ],
      "metadata": {
        "execution": {
          "iopub.status.busy": "2021-06-12T15:40:29.640855Z",
          "iopub.execute_input": "2021-06-12T15:40:29.641163Z",
          "iopub.status.idle": "2021-06-12T15:40:29.689488Z",
          "shell.execute_reply.started": "2021-06-12T15:40:29.641132Z",
          "shell.execute_reply": "2021-06-12T15:40:29.68864Z"
        },
        "trusted": true,
        "id": "Dka9OWEp29BA"
      },
      "outputs": [],
      "execution_count": null
    },
    {
      "cell_type": "code",
      "source": [
        "data.describe()      #description of dataset"
      ],
      "metadata": {
        "execution": {
          "iopub.status.busy": "2021-06-12T15:40:29.690744Z",
          "iopub.execute_input": "2021-06-12T15:40:29.690977Z",
          "iopub.status.idle": "2021-06-12T15:40:29.784049Z",
          "shell.execute_reply.started": "2021-06-12T15:40:29.690952Z",
          "shell.execute_reply": "2021-06-12T15:40:29.782867Z"
        },
        "trusted": true,
        "id": "bQb4ySOZ29BA"
      },
      "outputs": [],
      "execution_count": null
    },
    {
      "cell_type": "code",
      "source": [
        "data.info()"
      ],
      "metadata": {
        "execution": {
          "iopub.status.busy": "2021-06-12T15:40:29.785818Z",
          "iopub.execute_input": "2021-06-12T15:40:29.786245Z",
          "iopub.status.idle": "2021-06-12T15:40:29.808195Z",
          "shell.execute_reply.started": "2021-06-12T15:40:29.786207Z",
          "shell.execute_reply": "2021-06-12T15:40:29.806515Z"
        },
        "trusted": true,
        "id": "1lap7tVj29BA"
      },
      "outputs": [],
      "execution_count": null
    },
    {
      "cell_type": "code",
      "source": [
        "data.shape       #569 rows and 33 columns"
      ],
      "metadata": {
        "execution": {
          "iopub.status.busy": "2021-06-12T15:40:29.809582Z",
          "iopub.execute_input": "2021-06-12T15:40:29.809906Z",
          "iopub.status.idle": "2021-06-12T15:40:29.816652Z",
          "shell.execute_reply.started": "2021-06-12T15:40:29.80988Z",
          "shell.execute_reply": "2021-06-12T15:40:29.814973Z"
        },
        "trusted": true,
        "id": "-SQxD_M229BA"
      },
      "outputs": [],
      "execution_count": null
    },
    {
      "cell_type": "code",
      "source": [
        "data.columns     #displaying the columns of dataset"
      ],
      "metadata": {
        "execution": {
          "iopub.status.busy": "2021-06-12T15:40:29.818405Z",
          "iopub.execute_input": "2021-06-12T15:40:29.818825Z",
          "iopub.status.idle": "2021-06-12T15:40:29.835043Z",
          "shell.execute_reply.started": "2021-06-12T15:40:29.818796Z",
          "shell.execute_reply": "2021-06-12T15:40:29.834299Z"
        },
        "trusted": true,
        "id": "2zQSowK_29BA"
      },
      "outputs": [],
      "execution_count": null
    },
    {
      "cell_type": "code",
      "source": [
        "data.value_counts"
      ],
      "metadata": {
        "execution": {
          "iopub.status.busy": "2021-06-12T15:40:29.83703Z",
          "iopub.execute_input": "2021-06-12T15:40:29.837275Z",
          "iopub.status.idle": "2021-06-12T15:40:29.870242Z",
          "shell.execute_reply.started": "2021-06-12T15:40:29.83725Z",
          "shell.execute_reply": "2021-06-12T15:40:29.868939Z"
        },
        "trusted": true,
        "id": "CVL3YDwF29BB"
      },
      "outputs": [],
      "execution_count": null
    },
    {
      "cell_type": "code",
      "source": [
        "data.dtypes"
      ],
      "metadata": {
        "execution": {
          "iopub.status.busy": "2021-06-12T15:40:29.872137Z",
          "iopub.execute_input": "2021-06-12T15:40:29.872537Z",
          "iopub.status.idle": "2021-06-12T15:40:29.887751Z",
          "shell.execute_reply.started": "2021-06-12T15:40:29.872506Z",
          "shell.execute_reply": "2021-06-12T15:40:29.886721Z"
        },
        "trusted": true,
        "id": "g2VGTdb829BB"
      },
      "outputs": [],
      "execution_count": null
    },
    {
      "cell_type": "code",
      "source": [
        "data.isnull().sum()"
      ],
      "metadata": {
        "execution": {
          "iopub.status.busy": "2021-06-12T15:40:29.888616Z",
          "iopub.execute_input": "2021-06-12T15:40:29.888873Z",
          "iopub.status.idle": "2021-06-12T15:40:29.908073Z",
          "shell.execute_reply.started": "2021-06-12T15:40:29.888848Z",
          "shell.execute_reply": "2021-06-12T15:40:29.906882Z"
        },
        "trusted": true,
        "id": "6xY8QzHQ29BB"
      },
      "outputs": [],
      "execution_count": null
    },
    {
      "cell_type": "markdown",
      "source": [
        "**So we have to drop the Unnamed: 32 coulumn which contains NaN values**"
      ],
      "metadata": {
        "id": "PygAVfmp29BB"
      }
    },
    {
      "cell_type": "code",
      "source": [
        "data.drop('Unnamed: 32', axis = 1, inplace = True)\n"
      ],
      "metadata": {
        "execution": {
          "iopub.status.busy": "2021-06-12T15:40:29.909151Z",
          "iopub.execute_input": "2021-06-12T15:40:29.909388Z",
          "iopub.status.idle": "2021-06-12T15:40:29.926171Z",
          "shell.execute_reply.started": "2021-06-12T15:40:29.909358Z",
          "shell.execute_reply": "2021-06-12T15:40:29.924876Z"
        },
        "trusted": true,
        "id": "eZIiJo2k29BB"
      },
      "outputs": [],
      "execution_count": null
    },
    {
      "cell_type": "code",
      "source": [
        "data"
      ],
      "metadata": {
        "execution": {
          "iopub.status.busy": "2021-06-12T15:40:29.927606Z",
          "iopub.execute_input": "2021-06-12T15:40:29.927927Z",
          "iopub.status.idle": "2021-06-12T15:40:29.975098Z",
          "shell.execute_reply.started": "2021-06-12T15:40:29.9279Z",
          "shell.execute_reply": "2021-06-12T15:40:29.973678Z"
        },
        "trusted": true,
        "id": "ksyOXVc829BB"
      },
      "outputs": [],
      "execution_count": null
    },
    {
      "cell_type": "markdown",
      "source": [
        "# VISUALIZING THE DATA"
      ],
      "metadata": {
        "id": "5hXyx7U429BB"
      }
    },
    {
      "cell_type": "code",
      "source": [
        "data.corr()"
      ],
      "metadata": {
        "execution": {
          "iopub.status.busy": "2021-06-12T15:40:29.97687Z",
          "iopub.execute_input": "2021-06-12T15:40:29.977159Z",
          "iopub.status.idle": "2021-06-12T15:40:30.024346Z",
          "shell.execute_reply.started": "2021-06-12T15:40:29.977134Z",
          "shell.execute_reply": "2021-06-12T15:40:30.023465Z"
        },
        "trusted": true,
        "id": "Pc8HTf0j29BB"
      },
      "outputs": [],
      "execution_count": null
    },
    {
      "cell_type": "code",
      "source": [
        "plt.figure(figsize=(18,9))\n",
        "sns.heatmap(data.corr(),annot = True, cmap =\"Accent_r\")\n",
        "\n",
        "\n",
        "\n"
      ],
      "metadata": {
        "execution": {
          "iopub.status.busy": "2021-06-12T15:40:30.025259Z",
          "iopub.execute_input": "2021-06-12T15:40:30.02563Z",
          "iopub.status.idle": "2021-06-12T15:40:33.296385Z",
          "shell.execute_reply.started": "2021-06-12T15:40:30.025605Z",
          "shell.execute_reply": "2021-06-12T15:40:33.295339Z"
        },
        "trusted": true,
        "id": "oKEzJ4Kk29BB"
      },
      "outputs": [],
      "execution_count": null
    },
    {
      "cell_type": "code",
      "source": [
        "sns.barplot(x=\"id\", y=\"diagnosis\",data=data[160:190])\n",
        "plt.title(\"Id vs Diagnosis\",fontsize=15)\n",
        "plt.xlabel(\"Id\")\n",
        "plt.ylabel(\"Diagonis\")\n",
        "plt.show()\n",
        "plt.style.use(\"ggplot\")\n"
      ],
      "metadata": {
        "execution": {
          "iopub.status.busy": "2021-06-12T15:40:33.297574Z",
          "iopub.execute_input": "2021-06-12T15:40:33.298016Z",
          "iopub.status.idle": "2021-06-12T15:40:33.440022Z",
          "shell.execute_reply.started": "2021-06-12T15:40:33.29798Z",
          "shell.execute_reply": "2021-06-12T15:40:33.438384Z"
        },
        "trusted": true,
        "id": "3viSK4Sf29BB"
      },
      "outputs": [],
      "execution_count": null
    },
    {
      "cell_type": "code",
      "source": [
        "sns.barplot(x=\"radius_mean\", y=\"texture_mean\", data=data[170:180])\n",
        "plt.title(\"Radius Mean vs Texture Mean\",fontsize=15)\n",
        "plt.xlabel(\"Radius Mean\")\n",
        "plt.ylabel(\"Texture Mean\")\n",
        "plt.show()\n",
        "plt.style.use(\"ggplot\")\n"
      ],
      "metadata": {
        "execution": {
          "iopub.status.busy": "2021-06-12T15:40:33.441484Z",
          "iopub.execute_input": "2021-06-12T15:40:33.441921Z",
          "iopub.status.idle": "2021-06-12T15:40:33.615401Z",
          "shell.execute_reply.started": "2021-06-12T15:40:33.441885Z",
          "shell.execute_reply": "2021-06-12T15:40:33.614354Z"
        },
        "trusted": true,
        "id": "4ElvDzKf29BB"
      },
      "outputs": [],
      "execution_count": null
    },
    {
      "cell_type": "code",
      "source": [
        "\n",
        "mean_col = ['diagnosis','radius_mean', 'texture_mean', 'perimeter_mean',\n",
        "       'area_mean', 'smoothness_mean', 'compactness_mean', 'concavity_mean',\n",
        "       'concave points_mean', 'symmetry_mean', 'fractal_dimension_mean']\n",
        "\n",
        "sns.pairplot(data[mean_col],hue = 'diagnosis', palette='Accent')\n"
      ],
      "metadata": {
        "execution": {
          "iopub.status.busy": "2021-06-12T15:40:33.616538Z",
          "iopub.execute_input": "2021-06-12T15:40:33.616862Z",
          "iopub.status.idle": "2021-06-12T15:40:57.99615Z",
          "shell.execute_reply.started": "2021-06-12T15:40:33.616827Z",
          "shell.execute_reply": "2021-06-12T15:40:57.994837Z"
        },
        "trusted": true,
        "id": "JX2_rz5s29BC"
      },
      "outputs": [],
      "execution_count": null
    },
    {
      "cell_type": "code",
      "source": [
        "sns.violinplot(x=\"smoothness_mean\",y=\"perimeter_mean\",data=data)"
      ],
      "metadata": {
        "execution": {
          "iopub.status.busy": "2021-06-12T15:40:57.997963Z",
          "iopub.execute_input": "2021-06-12T15:40:57.998231Z",
          "iopub.status.idle": "2021-06-12T15:41:03.696387Z",
          "shell.execute_reply.started": "2021-06-12T15:40:57.998203Z",
          "shell.execute_reply": "2021-06-12T15:41:03.695418Z"
        },
        "trusted": true,
        "id": "Bc2Z4-uc29BC"
      },
      "outputs": [],
      "execution_count": null
    },
    {
      "cell_type": "code",
      "source": [
        "plt.figure(figsize=(14,7))\n",
        "sns.lineplot(x = \"concavity_mean\",y = \"concave points_mean\",data = data[0:400], color='green')\n",
        "plt.title(\"Concavity Mean vs Concave Mean\")\n",
        "plt.xlabel(\"Concavity Mean\")\n",
        "plt.ylabel(\"Concave Points\")\n",
        "plt.show()\n",
        "\n"
      ],
      "metadata": {
        "execution": {
          "iopub.status.busy": "2021-06-12T15:41:03.697887Z",
          "iopub.execute_input": "2021-06-12T15:41:03.698134Z",
          "iopub.status.idle": "2021-06-12T15:41:04.142362Z",
          "shell.execute_reply.started": "2021-06-12T15:41:03.698107Z",
          "shell.execute_reply": "2021-06-12T15:41:04.141514Z"
        },
        "trusted": true,
        "id": "-4DEV7tt29BC"
      },
      "outputs": [],
      "execution_count": null
    },
    {
      "cell_type": "code",
      "source": [
        "worst_col = ['diagnosis','radius_worst', 'texture_worst',\n",
        "       'perimeter_worst', 'area_worst', 'smoothness_worst',\n",
        "       'compactness_worst', 'concavity_worst', 'concave points_worst',\n",
        "       'symmetry_worst', 'fractal_dimension_worst']\n",
        "\n",
        "sns.pairplot(data[worst_col],hue = 'diagnosis', palette=\"CMRmap\")"
      ],
      "metadata": {
        "execution": {
          "iopub.status.busy": "2021-06-12T15:41:04.143547Z",
          "iopub.execute_input": "2021-06-12T15:41:04.143982Z",
          "iopub.status.idle": "2021-06-12T15:41:30.169919Z",
          "shell.execute_reply.started": "2021-06-12T15:41:04.143947Z",
          "shell.execute_reply": "2021-06-12T15:41:30.168926Z"
        },
        "trusted": true,
        "id": "_Hm2nKRz29BC"
      },
      "outputs": [],
      "execution_count": null
    },
    {
      "cell_type": "markdown",
      "source": [
        "# TRAINING AND TESTING DATA"
      ],
      "metadata": {
        "id": "E4nUG2TZ29BC"
      }
    },
    {
      "cell_type": "code",
      "source": [
        "# Getting Features\n",
        "\n",
        "x = data.drop(columns = 'diagnosis')\n",
        "\n",
        "# Getting Predicting Value\n",
        "y = data['diagnosis']\n"
      ],
      "metadata": {
        "execution": {
          "iopub.status.busy": "2021-06-12T15:41:30.171276Z",
          "iopub.execute_input": "2021-06-12T15:41:30.171827Z",
          "iopub.status.idle": "2021-06-12T15:41:30.178046Z",
          "shell.execute_reply.started": "2021-06-12T15:41:30.17177Z",
          "shell.execute_reply": "2021-06-12T15:41:30.176946Z"
        },
        "trusted": true,
        "id": "m7tHZPkt29BC"
      },
      "outputs": [],
      "execution_count": null
    },
    {
      "cell_type": "code",
      "source": [
        "\n",
        "#train_test_splitting of the dataset\n",
        "from sklearn.model_selection import train_test_split\n",
        "x_train,x_test,y_train,y_test = train_test_split(x,y,test_size=0.2,random_state=0)\n"
      ],
      "metadata": {
        "execution": {
          "iopub.status.busy": "2021-06-12T15:41:30.179245Z",
          "iopub.execute_input": "2021-06-12T15:41:30.179513Z",
          "iopub.status.idle": "2021-06-12T15:41:30.481211Z",
          "shell.execute_reply.started": "2021-06-12T15:41:30.179486Z",
          "shell.execute_reply": "2021-06-12T15:41:30.479824Z"
        },
        "trusted": true,
        "id": "auLxrTpZ29BC"
      },
      "outputs": [],
      "execution_count": null
    },
    {
      "cell_type": "code",
      "source": [
        "print(len(x_train))\n"
      ],
      "metadata": {
        "execution": {
          "iopub.status.busy": "2021-06-12T15:41:30.484918Z",
          "iopub.execute_input": "2021-06-12T15:41:30.48517Z",
          "iopub.status.idle": "2021-06-12T15:41:30.49108Z",
          "shell.execute_reply.started": "2021-06-12T15:41:30.485147Z",
          "shell.execute_reply": "2021-06-12T15:41:30.489331Z"
        },
        "trusted": true,
        "id": "uqC7_yIJ29BC"
      },
      "outputs": [],
      "execution_count": null
    },
    {
      "cell_type": "code",
      "source": [
        "print(len(x_test))"
      ],
      "metadata": {
        "execution": {
          "iopub.status.busy": "2021-06-12T15:41:30.492523Z",
          "iopub.execute_input": "2021-06-12T15:41:30.492871Z",
          "iopub.status.idle": "2021-06-12T15:41:30.506339Z",
          "shell.execute_reply.started": "2021-06-12T15:41:30.492836Z",
          "shell.execute_reply": "2021-06-12T15:41:30.505548Z"
        },
        "trusted": true,
        "id": "eWsKJHWg29BC"
      },
      "outputs": [],
      "execution_count": null
    },
    {
      "cell_type": "code",
      "source": [
        "print(len(y_train))"
      ],
      "metadata": {
        "execution": {
          "iopub.status.busy": "2021-06-12T15:41:30.507227Z",
          "iopub.execute_input": "2021-06-12T15:41:30.507436Z",
          "iopub.status.idle": "2021-06-12T15:41:30.524428Z",
          "shell.execute_reply.started": "2021-06-12T15:41:30.507412Z",
          "shell.execute_reply": "2021-06-12T15:41:30.522724Z"
        },
        "trusted": true,
        "id": "4tG7IgEs29BC"
      },
      "outputs": [],
      "execution_count": null
    },
    {
      "cell_type": "code",
      "source": [
        "print(len(y_test))"
      ],
      "metadata": {
        "execution": {
          "iopub.status.busy": "2021-06-12T15:41:30.52576Z",
          "iopub.execute_input": "2021-06-12T15:41:30.525986Z",
          "iopub.status.idle": "2021-06-12T15:41:30.539877Z",
          "shell.execute_reply.started": "2021-06-12T15:41:30.525961Z",
          "shell.execute_reply": "2021-06-12T15:41:30.538523Z"
        },
        "trusted": true,
        "id": "ru9Rfxt229BC"
      },
      "outputs": [],
      "execution_count": null
    },
    {
      "cell_type": "markdown",
      "source": [
        "# MODELS"
      ],
      "metadata": {
        "id": "ZI-r8igk29BC"
      }
    },
    {
      "cell_type": "markdown",
      "source": [
        "# 1. Logistic Regression"
      ],
      "metadata": {
        "id": "mVtDwfa429BC"
      }
    },
    {
      "cell_type": "code",
      "source": [
        "from sklearn.linear_model import LogisticRegression\n",
        "reg = LogisticRegression()\n",
        "reg.fit(x_train,y_train)\n"
      ],
      "metadata": {
        "execution": {
          "iopub.status.busy": "2021-06-12T15:41:30.541282Z",
          "iopub.execute_input": "2021-06-12T15:41:30.541566Z",
          "iopub.status.idle": "2021-06-12T15:41:30.716304Z",
          "shell.execute_reply.started": "2021-06-12T15:41:30.541541Z",
          "shell.execute_reply": "2021-06-12T15:41:30.715543Z"
        },
        "trusted": true,
        "id": "nuQ7W-vm29BC"
      },
      "outputs": [],
      "execution_count": null
    },
    {
      "cell_type": "code",
      "source": [
        "y_pred=reg.predict(x_test)\n",
        "from sklearn.metrics import accuracy_score,classification_report,confusion_matrix,r2_score\n",
        "print(classification_report(y_test,y_pred))\n",
        "print(confusion_matrix(y_test,y_pred))\n",
        "print(\"Training Score: \",reg.score(x_train,y_train)*100)\n",
        "\n",
        "\n"
      ],
      "metadata": {
        "execution": {
          "iopub.status.busy": "2021-06-12T15:53:21.392067Z",
          "iopub.execute_input": "2021-06-12T15:53:21.392433Z",
          "iopub.status.idle": "2021-06-12T15:53:21.423249Z",
          "shell.execute_reply.started": "2021-06-12T15:53:21.392402Z",
          "shell.execute_reply": "2021-06-12T15:53:21.422161Z"
        },
        "trusted": true,
        "id": "FNf-mmoY29BC"
      },
      "outputs": [],
      "execution_count": null
    },
    {
      "cell_type": "code",
      "source": [
        "data = pd.DataFrame({'Actual': y_test, 'Predicted': y_pred})\n",
        "data\n",
        "\n",
        "\n",
        "\n",
        "\n"
      ],
      "metadata": {
        "execution": {
          "iopub.status.busy": "2021-06-12T15:56:55.51004Z",
          "iopub.execute_input": "2021-06-12T15:56:55.510487Z",
          "iopub.status.idle": "2021-06-12T15:56:55.521354Z",
          "shell.execute_reply.started": "2021-06-12T15:56:55.510453Z",
          "shell.execute_reply": "2021-06-12T15:56:55.520696Z"
        },
        "trusted": true,
        "id": "78VCFPfO29BD"
      },
      "outputs": [],
      "execution_count": null
    },
    {
      "cell_type": "code",
      "source": [
        "print(accuracy_score(y_test,y_pred)*100)"
      ],
      "metadata": {
        "execution": {
          "iopub.status.busy": "2021-06-12T15:58:51.894738Z",
          "iopub.execute_input": "2021-06-12T15:58:51.895106Z",
          "iopub.status.idle": "2021-06-12T15:58:51.902118Z",
          "shell.execute_reply.started": "2021-06-12T15:58:51.895072Z",
          "shell.execute_reply": "2021-06-12T15:58:51.901077Z"
        },
        "trusted": true,
        "id": "GOk429aa29BD"
      },
      "outputs": [],
      "execution_count": null
    },
    {
      "cell_type": "markdown",
      "source": [
        "**So we get a accuracy score of 58.7 % using logistic regression**"
      ],
      "metadata": {
        "id": "s-eRwKlf29BD"
      }
    },
    {
      "cell_type": "code",
      "source": [
        "from sklearn.model_selection import GridSearchCV\n",
        "param = {\n",
        "         'penalty':['l1','l2'],\n",
        "         'C':[0.001, 0.01, 0.1, 1, 10, 20,100, 1000]\n",
        "}\n",
        "lr= LogisticRegression(penalty='l1')\n",
        "cv=GridSearchCV(reg,param,cv=5,n_jobs=-1)\n",
        "cv.fit(x_train,y_train)\n",
        "cv.predict(x_test)\n"
      ],
      "metadata": {
        "execution": {
          "iopub.status.busy": "2021-06-12T15:58:13.653589Z",
          "iopub.execute_input": "2021-06-12T15:58:13.653993Z",
          "iopub.status.idle": "2021-06-12T15:58:15.570925Z",
          "shell.execute_reply.started": "2021-06-12T15:58:13.653961Z",
          "shell.execute_reply": "2021-06-12T15:58:15.570127Z"
        },
        "trusted": true,
        "id": "cKSJDJKL29BD"
      },
      "outputs": [],
      "execution_count": null
    },
    {
      "cell_type": "code",
      "source": [
        "print(\"Best CV score\", cv.best_score_*100)"
      ],
      "metadata": {
        "execution": {
          "iopub.status.busy": "2021-06-12T16:01:10.708378Z",
          "iopub.execute_input": "2021-06-12T16:01:10.708664Z",
          "iopub.status.idle": "2021-06-12T16:01:10.712891Z",
          "shell.execute_reply.started": "2021-06-12T16:01:10.708639Z",
          "shell.execute_reply": "2021-06-12T16:01:10.712029Z"
        },
        "trusted": true,
        "id": "TTYWZg4O29BE"
      },
      "outputs": [],
      "execution_count": null
    },
    {
      "cell_type": "markdown",
      "source": [
        "# 2. DECISION TREE CLASSIFIER"
      ],
      "metadata": {
        "id": "oHFwJyRm29BE"
      }
    },
    {
      "cell_type": "code",
      "source": [
        "from sklearn.tree import DecisionTreeClassifier\n",
        "dtree = DecisionTreeClassifier(max_depth=6, random_state=123)\n",
        "\n",
        "dtree.fit(x_train,y_train)\n",
        "\n",
        "#y_pred = dtree.predict(x_test)\n"
      ],
      "metadata": {
        "execution": {
          "iopub.status.busy": "2021-06-12T16:03:49.827846Z",
          "iopub.execute_input": "2021-06-12T16:03:49.828122Z",
          "iopub.status.idle": "2021-06-12T16:03:49.846029Z",
          "shell.execute_reply.started": "2021-06-12T16:03:49.828097Z",
          "shell.execute_reply": "2021-06-12T16:03:49.844927Z"
        },
        "trusted": true,
        "id": "uFO9U2S129BE"
      },
      "outputs": [],
      "execution_count": null
    },
    {
      "cell_type": "code",
      "source": [
        "y_pred=dtree.predict(x_test)\n",
        "from sklearn.metrics import classification_report,confusion_matrix,accuracy_score,mean_squared_error\n",
        "print(classification_report(y_test,y_pred))\n",
        "print(confusion_matrix(y_test,y_pred))\n",
        "print(\"Training Score: \",dtree.score(x_train,y_train)*100)\n",
        "\n"
      ],
      "metadata": {
        "execution": {
          "iopub.status.busy": "2021-06-12T16:13:57.803803Z",
          "iopub.execute_input": "2021-06-12T16:13:57.804099Z",
          "iopub.status.idle": "2021-06-12T16:13:57.828587Z",
          "shell.execute_reply.started": "2021-06-12T16:13:57.804074Z",
          "shell.execute_reply": "2021-06-12T16:13:57.827195Z"
        },
        "trusted": true,
        "id": "WvB7Qy3r29BE"
      },
      "outputs": [],
      "execution_count": null
    },
    {
      "cell_type": "code",
      "source": [
        "print(accuracy_score(y_test,y_pred)*100)"
      ],
      "metadata": {
        "execution": {
          "iopub.status.busy": "2021-06-12T16:15:07.433042Z",
          "iopub.execute_input": "2021-06-12T16:15:07.433337Z",
          "iopub.status.idle": "2021-06-12T16:15:07.439188Z",
          "shell.execute_reply.started": "2021-06-12T16:15:07.433308Z",
          "shell.execute_reply": "2021-06-12T16:15:07.437974Z"
        },
        "trusted": true,
        "id": "mShsioVD29BE"
      },
      "outputs": [],
      "execution_count": null
    },
    {
      "cell_type": "markdown",
      "source": [
        "**So we get a accuracy score of 94.73 % using Decision Tree Classifier**"
      ],
      "metadata": {
        "id": "WlpuwHsm29BE"
      }
    },
    {
      "cell_type": "markdown",
      "source": [
        "# 3. Random Forest Classifier"
      ],
      "metadata": {
        "id": "Kn3GHlws29BE"
      }
    },
    {
      "cell_type": "markdown",
      "source": [],
      "metadata": {
        "id": "7TfvYeqX29BE"
      }
    },
    {
      "cell_type": "code",
      "source": [
        "from sklearn.ensemble import RandomForestClassifier\n",
        "rfc=RandomForestClassifier()\n",
        "rfc.fit(x_train,y_train)\n",
        "\n"
      ],
      "metadata": {
        "execution": {
          "iopub.status.busy": "2021-06-12T16:20:42.790027Z",
          "iopub.execute_input": "2021-06-12T16:20:42.790327Z",
          "iopub.status.idle": "2021-06-12T16:20:42.990141Z",
          "shell.execute_reply.started": "2021-06-12T16:20:42.790292Z",
          "shell.execute_reply": "2021-06-12T16:20:42.988855Z"
        },
        "trusted": true,
        "id": "0XYErWv_29BE"
      },
      "outputs": [],
      "execution_count": null
    },
    {
      "cell_type": "code",
      "source": [
        "y_pred=rfc.predict(x_test)\n",
        "from sklearn.metrics import classification_report,confusion_matrix,accuracy_score,mean_squared_error\n",
        "print(classification_report(y_test,y_pred))\n",
        "print(confusion_matrix(y_test,y_pred))\n",
        "print(\"Training Score: \",rfc.score(x_train,y_train)*100)\n"
      ],
      "metadata": {
        "execution": {
          "iopub.status.busy": "2021-06-12T16:25:25.009442Z",
          "iopub.execute_input": "2021-06-12T16:25:25.009912Z",
          "iopub.status.idle": "2021-06-12T16:25:25.058259Z",
          "shell.execute_reply.started": "2021-06-12T16:25:25.009876Z",
          "shell.execute_reply": "2021-06-12T16:25:25.057122Z"
        },
        "trusted": true,
        "id": "MWJSvCLN29BE"
      },
      "outputs": [],
      "execution_count": null
    },
    {
      "cell_type": "code",
      "source": [
        "print(accuracy_score(y_test,y_pred)*100)"
      ],
      "metadata": {
        "execution": {
          "iopub.status.busy": "2021-06-12T16:27:36.608021Z",
          "iopub.execute_input": "2021-06-12T16:27:36.608385Z",
          "iopub.status.idle": "2021-06-12T16:27:36.61555Z",
          "shell.execute_reply.started": "2021-06-12T16:27:36.608353Z",
          "shell.execute_reply": "2021-06-12T16:27:36.613817Z"
        },
        "trusted": true,
        "id": "gf0-dgds29BE"
      },
      "outputs": [],
      "execution_count": null
    },
    {
      "cell_type": "markdown",
      "source": [
        "**So we get a accuracy score of 96.49 % using Random Forest Classifier**"
      ],
      "metadata": {
        "id": "GbXtIF9629BE"
      }
    },
    {
      "cell_type": "markdown",
      "source": [
        "# 4. KNeighborsClassifier\n",
        "\n"
      ],
      "metadata": {
        "id": "TwKRcGUN29BE"
      }
    },
    {
      "cell_type": "code",
      "source": [
        "from sklearn.neighbors import KNeighborsClassifier\n",
        "knn=KNeighborsClassifier(n_neighbors=7)\n",
        "\n",
        "knn.fit(x_train,y_train)\n"
      ],
      "metadata": {
        "execution": {
          "iopub.status.busy": "2021-06-12T16:31:29.790138Z",
          "iopub.execute_input": "2021-06-12T16:31:29.790439Z",
          "iopub.status.idle": "2021-06-12T16:31:29.800312Z",
          "shell.execute_reply.started": "2021-06-12T16:31:29.790413Z",
          "shell.execute_reply": "2021-06-12T16:31:29.799124Z"
        },
        "trusted": true,
        "id": "VyWaZcsX29BE"
      },
      "outputs": [],
      "execution_count": null
    },
    {
      "cell_type": "code",
      "source": [
        "y_pred=knn.predict(x_test)\n",
        "from sklearn.metrics import classification_report,confusion_matrix,accuracy_score,mean_squared_error,r2_score\n",
        "print(classification_report(y_test,y_pred))\n",
        "print(confusion_matrix(y_test,y_pred))\n",
        "print(\"Training Score: \",knn.score(x_train,y_train)*100)\n",
        "print(knn.score(x_test,y_test))\n"
      ],
      "metadata": {
        "execution": {
          "iopub.status.busy": "2021-06-12T16:40:40.401609Z",
          "iopub.execute_input": "2021-06-12T16:40:40.401916Z",
          "iopub.status.idle": "2021-06-12T16:40:40.454897Z",
          "shell.execute_reply.started": "2021-06-12T16:40:40.40189Z",
          "shell.execute_reply": "2021-06-12T16:40:40.453963Z"
        },
        "trusted": true,
        "id": "R-90SFk829BE"
      },
      "outputs": [],
      "execution_count": null
    },
    {
      "cell_type": "code",
      "source": [
        "print(accuracy_score(y_test,y_pred)*100)\n"
      ],
      "metadata": {
        "execution": {
          "iopub.status.busy": "2021-06-12T16:35:56.95549Z",
          "iopub.execute_input": "2021-06-12T16:35:56.95582Z",
          "iopub.status.idle": "2021-06-12T16:35:56.961894Z",
          "shell.execute_reply.started": "2021-06-12T16:35:56.955793Z",
          "shell.execute_reply": "2021-06-12T16:35:56.960481Z"
        },
        "trusted": true,
        "id": "OgXRFceH29BF"
      },
      "outputs": [],
      "execution_count": null
    },
    {
      "cell_type": "markdown",
      "source": [
        "**So we get a accuracy score of 70.17 % using KNeighborsClassifier**"
      ],
      "metadata": {
        "id": "yLhXKsDy29BF"
      }
    },
    {
      "cell_type": "markdown",
      "source": [
        "# 5. SVC"
      ],
      "metadata": {
        "id": "eoN2cg3729BF"
      }
    },
    {
      "cell_type": "code",
      "source": [
        "from sklearn.svm import SVC\n",
        "\n",
        "svc = SVC()\n",
        "svc.fit(x_train, y_train)\n"
      ],
      "metadata": {
        "execution": {
          "iopub.status.busy": "2021-06-12T16:41:58.106235Z",
          "iopub.execute_input": "2021-06-12T16:41:58.10666Z",
          "iopub.status.idle": "2021-06-12T16:41:58.127191Z",
          "shell.execute_reply.started": "2021-06-12T16:41:58.106629Z",
          "shell.execute_reply": "2021-06-12T16:41:58.12539Z"
        },
        "trusted": true,
        "id": "QlktpuwR29BF"
      },
      "outputs": [],
      "execution_count": null
    },
    {
      "cell_type": "code",
      "source": [
        "y_pred=svc.predict(x_test)\n",
        "from sklearn.metrics import classification_report,confusion_matrix,accuracy_score,mean_squared_error,r2_score\n",
        "print(classification_report(y_test,y_pred))\n",
        "print(confusion_matrix(y_test,y_pred))\n",
        "print(\"Training Score: \",svc.score(x_train,y_train)*100)\n",
        "print(svc.score(x_test,y_test))\n"
      ],
      "metadata": {
        "execution": {
          "iopub.status.busy": "2021-06-12T16:43:28.928616Z",
          "iopub.execute_input": "2021-06-12T16:43:28.92914Z",
          "iopub.status.idle": "2021-06-12T16:43:28.970901Z",
          "shell.execute_reply.started": "2021-06-12T16:43:28.929115Z",
          "shell.execute_reply": "2021-06-12T16:43:28.969435Z"
        },
        "trusted": true,
        "id": "GJTPIeBY29BF"
      },
      "outputs": [],
      "execution_count": null
    },
    {
      "cell_type": "code",
      "source": [
        "print(\"Training Score: \",svc.score(x_train,y_train)*100)"
      ],
      "metadata": {
        "execution": {
          "iopub.status.busy": "2021-06-12T16:44:28.222333Z",
          "iopub.execute_input": "2021-06-12T16:44:28.222666Z",
          "iopub.status.idle": "2021-06-12T16:44:28.244387Z",
          "shell.execute_reply.started": "2021-06-12T16:44:28.222623Z",
          "shell.execute_reply": "2021-06-12T16:44:28.242746Z"
        },
        "trusted": true,
        "id": "MMLuMS4l29BF"
      },
      "outputs": [],
      "execution_count": null
    },
    {
      "cell_type": "markdown",
      "source": [
        "**So we get a accuracy score of 63.7 % using SVC**"
      ],
      "metadata": {
        "id": "Fbjt3QDU29BF"
      }
    },
    {
      "cell_type": "markdown",
      "source": [
        "# 6. AdaBoostClassifier"
      ],
      "metadata": {
        "id": "F43NQ6ao29BF"
      }
    },
    {
      "cell_type": "code",
      "source": [
        "from sklearn.ensemble import AdaBoostClassifier\n",
        "adb = AdaBoostClassifier(base_estimator = None)\n",
        "adb.fit(x_train,y_train)\n",
        "\n",
        "\n",
        "\n",
        "\n",
        "\n"
      ],
      "metadata": {
        "execution": {
          "iopub.status.busy": "2021-06-12T16:54:11.443308Z",
          "iopub.execute_input": "2021-06-12T16:54:11.443608Z",
          "iopub.status.idle": "2021-06-12T16:54:11.604147Z",
          "shell.execute_reply.started": "2021-06-12T16:54:11.443582Z",
          "shell.execute_reply": "2021-06-12T16:54:11.602285Z"
        },
        "trusted": true,
        "id": "nrIBdZlx29BF"
      },
      "outputs": [],
      "execution_count": null
    },
    {
      "cell_type": "code",
      "source": [
        "y_pred=adb.predict(x_test)\n",
        "from sklearn.metrics import classification_report,confusion_matrix,accuracy_score,mean_squared_error,r2_score\n",
        "print(classification_report(y_test,y_pred))\n",
        "print(confusion_matrix(y_test,y_pred))\n",
        "print(\"Training Score: \",adb.score(x_train,y_train)*100)"
      ],
      "metadata": {
        "execution": {
          "iopub.status.busy": "2021-06-12T16:56:24.104576Z",
          "iopub.execute_input": "2021-06-12T16:56:24.104906Z",
          "iopub.status.idle": "2021-06-12T16:56:24.14292Z",
          "shell.execute_reply.started": "2021-06-12T16:56:24.10488Z",
          "shell.execute_reply": "2021-06-12T16:56:24.141756Z"
        },
        "trusted": true,
        "id": "d4CsysQs29BF"
      },
      "outputs": [],
      "execution_count": null
    },
    {
      "cell_type": "code",
      "source": [
        "print(accuracy_score(y_test,y_pred)*100)"
      ],
      "metadata": {
        "execution": {
          "iopub.status.busy": "2021-06-12T16:58:05.199816Z",
          "iopub.execute_input": "2021-06-12T16:58:05.200205Z",
          "iopub.status.idle": "2021-06-12T16:58:05.207455Z",
          "shell.execute_reply.started": "2021-06-12T16:58:05.20017Z",
          "shell.execute_reply": "2021-06-12T16:58:05.206615Z"
        },
        "trusted": true,
        "id": "h_dUDXI829BF"
      },
      "outputs": [],
      "execution_count": null
    },
    {
      "cell_type": "markdown",
      "source": [
        "**So we get a accuracy score of 98.24 % using AdaBoostClassifier**"
      ],
      "metadata": {
        "id": "BC5VeoRi29BF"
      }
    },
    {
      "cell_type": "markdown",
      "source": [
        "#  7. Gradient Boosting Classifier"
      ],
      "metadata": {
        "id": "-iyY0vzz29BF"
      }
    },
    {
      "cell_type": "markdown",
      "source": [],
      "metadata": {
        "id": "T7POOQ5V29BF"
      }
    },
    {
      "cell_type": "code",
      "source": [
        "from sklearn.ensemble import GradientBoostingClassifier\n",
        "gbc=GradientBoostingClassifier()\n",
        "gbc.fit(x_train,y_train)\n"
      ],
      "metadata": {
        "execution": {
          "iopub.status.busy": "2021-06-12T17:00:11.990216Z",
          "iopub.execute_input": "2021-06-12T17:00:11.990584Z",
          "iopub.status.idle": "2021-06-12T17:00:12.415062Z",
          "shell.execute_reply.started": "2021-06-12T17:00:11.990553Z",
          "shell.execute_reply": "2021-06-12T17:00:12.413285Z"
        },
        "trusted": true,
        "id": "Neo7Zpo729BF"
      },
      "outputs": [],
      "execution_count": null
    },
    {
      "cell_type": "code",
      "source": [
        "y_pred=gbc.predict(x_test)\n",
        "from sklearn.metrics import classification_report,confusion_matrix,accuracy_score,mean_squared_error,r2_score\n",
        "print(classification_report(y_test,y_pred))\n",
        "print(confusion_matrix(y_test,y_pred))\n",
        "print(\"Training Score: \",gbc.score(x_train,y_train)*100)\n",
        "print(gbc.score(x_test,y_test))\n"
      ],
      "metadata": {
        "execution": {
          "iopub.status.busy": "2021-06-12T17:02:15.841072Z",
          "iopub.execute_input": "2021-06-12T17:02:15.841416Z",
          "iopub.status.idle": "2021-06-12T17:02:15.865084Z",
          "shell.execute_reply.started": "2021-06-12T17:02:15.841389Z",
          "shell.execute_reply": "2021-06-12T17:02:15.864091Z"
        },
        "trusted": true,
        "id": "D7UWyKOR29BG"
      },
      "outputs": [],
      "execution_count": null
    },
    {
      "cell_type": "code",
      "source": [
        "print(accuracy_score(y_test,y_pred)*100)"
      ],
      "metadata": {
        "execution": {
          "iopub.status.busy": "2021-06-12T17:03:14.943516Z",
          "iopub.execute_input": "2021-06-12T17:03:14.943875Z",
          "iopub.status.idle": "2021-06-12T17:03:14.952339Z",
          "shell.execute_reply.started": "2021-06-12T17:03:14.943839Z",
          "shell.execute_reply": "2021-06-12T17:03:14.950896Z"
        },
        "trusted": true,
        "id": "cdV_E7d-29BG"
      },
      "outputs": [],
      "execution_count": null
    },
    {
      "cell_type": "markdown",
      "source": [
        "**So we get a accuracy score of 95.61 % using GradientBoostingClassifier**"
      ],
      "metadata": {
        "id": "9qPSPm_w29BG"
      }
    },
    {
      "cell_type": "markdown",
      "source": [
        "# 8. XGBClassifier"
      ],
      "metadata": {
        "id": "ksnHEgb-29BG"
      }
    },
    {
      "cell_type": "code",
      "source": [
        "from xgboost import XGBClassifier\n",
        "\n",
        "xgb =XGBClassifier(objective ='reg:linear', colsample_bytree = 0.3, learning_rate = 0.1,\n",
        "                max_depth = 5, alpha = 10, n_estimators = 10)\n",
        "\n",
        "xgb.fit(x_train, y_train)\n"
      ],
      "metadata": {
        "execution": {
          "iopub.status.busy": "2021-06-12T17:15:28.773621Z",
          "iopub.execute_input": "2021-06-12T17:15:28.773995Z",
          "iopub.status.idle": "2021-06-12T17:15:28.819949Z",
          "shell.execute_reply.started": "2021-06-12T17:15:28.773966Z",
          "shell.execute_reply": "2021-06-12T17:15:28.819021Z"
        },
        "trusted": true,
        "id": "PoHSjz1r29BG"
      },
      "outputs": [],
      "execution_count": null
    },
    {
      "cell_type": "code",
      "source": [
        "y_pred=xgb.predict(x_test)\n",
        "from sklearn.metrics import classification_report,confusion_matrix,accuracy_score,mean_squared_error,r2_score\n",
        "print(classification_report(y_test,y_pred))\n",
        "print(confusion_matrix(y_test,y_pred))\n",
        "print(\"Training Score: \",xgb.score(x_train,y_train)*100)\n",
        "print(xgb.score(x_test,y_test))\n"
      ],
      "metadata": {
        "execution": {
          "iopub.status.busy": "2021-06-12T17:16:48.374549Z",
          "iopub.execute_input": "2021-06-12T17:16:48.375001Z",
          "iopub.status.idle": "2021-06-12T17:16:48.399904Z",
          "shell.execute_reply.started": "2021-06-12T17:16:48.374976Z",
          "shell.execute_reply": "2021-06-12T17:16:48.398953Z"
        },
        "trusted": true,
        "id": "HmwQZc__29BG"
      },
      "outputs": [],
      "execution_count": null
    },
    {
      "cell_type": "code",
      "source": [
        "print(\"Training Score: \",xgb.score(x_train,y_train)*100)"
      ],
      "metadata": {
        "execution": {
          "iopub.status.busy": "2021-06-12T17:17:58.884155Z",
          "iopub.execute_input": "2021-06-12T17:17:58.884516Z",
          "iopub.status.idle": "2021-06-12T17:17:58.933145Z",
          "shell.execute_reply.started": "2021-06-12T17:17:58.884485Z",
          "shell.execute_reply": "2021-06-12T17:17:58.931823Z"
        },
        "trusted": true,
        "id": "EuGNYYb129BG"
      },
      "outputs": [],
      "execution_count": null
    },
    {
      "cell_type": "code",
      "source": [
        "data = pd.DataFrame({'Actual': y_test, 'Predicted': y_pred})\n",
        "data"
      ],
      "metadata": {
        "execution": {
          "iopub.status.busy": "2021-06-12T17:20:32.304531Z",
          "iopub.execute_input": "2021-06-12T17:20:32.304891Z",
          "iopub.status.idle": "2021-06-12T17:20:32.316627Z",
          "shell.execute_reply.started": "2021-06-12T17:20:32.304866Z",
          "shell.execute_reply": "2021-06-12T17:20:32.31575Z"
        },
        "trusted": true,
        "id": "rEWWz2NJ29BG"
      },
      "outputs": [],
      "execution_count": null
    },
    {
      "cell_type": "markdown",
      "source": [
        "**So we get a accuracy score of 97.80 % using  XGBClassifier**"
      ],
      "metadata": {
        "id": "Vzaktvln29BG"
      }
    },
    {
      "cell_type": "markdown",
      "source": [
        "# 9. Naive Bayes"
      ],
      "metadata": {
        "id": "OMcdwaAW29BG"
      }
    },
    {
      "cell_type": "code",
      "source": [
        "from sklearn.naive_bayes import GaussianNB\n",
        "gnb = GaussianNB()\n",
        "gnb.fit(x_train,y_train)"
      ],
      "metadata": {
        "execution": {
          "iopub.status.busy": "2021-06-12T17:23:46.777286Z",
          "iopub.execute_input": "2021-06-12T17:23:46.777599Z",
          "iopub.status.idle": "2021-06-12T17:23:46.787427Z",
          "shell.execute_reply.started": "2021-06-12T17:23:46.777574Z",
          "shell.execute_reply": "2021-06-12T17:23:46.786434Z"
        },
        "trusted": true,
        "id": "eKCdFtxI29BG"
      },
      "outputs": [],
      "execution_count": null
    },
    {
      "cell_type": "code",
      "source": [
        "y_pred=gnb.predict(x_test)\n",
        "from sklearn.metrics import classification_report,confusion_matrix,accuracy_score,mean_squared_error,r2_score\n",
        "print(classification_report(y_test,y_pred))\n",
        "print(confusion_matrix(y_test,y_pred))\n",
        "print(accuracy_score(y_test,y_pred))\n",
        "print(\"Training Score: \",gnb.score(x_train,y_train)*100)\n",
        "print(gnb.score(x_test,y_test))\n"
      ],
      "metadata": {
        "execution": {
          "iopub.status.busy": "2021-06-12T17:28:19.273196Z",
          "iopub.execute_input": "2021-06-12T17:28:19.273501Z",
          "iopub.status.idle": "2021-06-12T17:28:19.299543Z",
          "shell.execute_reply.started": "2021-06-12T17:28:19.273473Z",
          "shell.execute_reply": "2021-06-12T17:28:19.29814Z"
        },
        "trusted": true,
        "id": "y2wdpuv429BG"
      },
      "outputs": [],
      "execution_count": null
    },
    {
      "cell_type": "markdown",
      "source": [
        "**So we get a accuracy score of 63.29 % using Naive Bayes**"
      ],
      "metadata": {
        "id": "rJbXOWdC29BG"
      }
    },
    {
      "cell_type": "code",
      "source": [
        "data = pd.DataFrame({'Actual': y_test, 'Predicted': y_pred})\n",
        "data"
      ],
      "metadata": {
        "execution": {
          "iopub.status.busy": "2021-06-12T17:47:16.091569Z",
          "iopub.execute_input": "2021-06-12T17:47:16.091926Z",
          "iopub.status.idle": "2021-06-12T17:47:16.106959Z",
          "shell.execute_reply.started": "2021-06-12T17:47:16.0919Z",
          "shell.execute_reply": "2021-06-12T17:47:16.105406Z"
        },
        "trusted": true,
        "id": "emydukqo29BG"
      },
      "outputs": [],
      "execution_count": null
    },
    {
      "cell_type": "markdown",
      "source": [
        "**So now we conclude the accuracy of different models:**\n",
        "\n",
        "**1. AdaBoost Classifier = 98.24 %**\n",
        "\n",
        "**2. XGB Classifier= 97.84 %**\n",
        "\n",
        "**3. Random Forest Classifier =96.57 %**\n",
        "\n",
        "**4. Gradient Boosting Classifier= 95.66%**\n",
        "\n",
        "**5. Decision Tree Classifier= 94.78 %**\n",
        "\n",
        "**6. K Neighbours Classifier= 70.18 %**\n",
        "\n",
        "**7. SVC = 63.80 %**\n",
        "\n",
        "**8. Naiye Bayes= 63.30 %**\n",
        "\n",
        "**9. Logistic Regression = 58.82%**\n"
      ],
      "metadata": {
        "id": "jsS_XGaM29BG"
      }
    },
    {
      "cell_type": "markdown",
      "source": [
        "**Ada Boost Classifier got the highest accuracy**"
      ],
      "metadata": {
        "id": "oNK7BKhy29BH"
      }
    },
    {
      "cell_type": "markdown",
      "source": [
        "# If you liked this notebook, please UPVOTE it."
      ],
      "metadata": {
        "id": "EzaiMlJw29BH"
      }
    }
  ]
}